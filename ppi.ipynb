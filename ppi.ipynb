{
 "cells": [
  {
   "cell_type": "code",
   "execution_count": 5,
   "metadata": {},
   "outputs": [],
   "source": [
    "from graphsage.layers import GraphSAGELayer\n",
    "from graphsage.utils import train_ppi\n",
    "import torch_geometric.nn as geo_nn\n",
    "import torch_geometric\n",
    "import torch"
   ]
  },
  {
   "cell_type": "code",
   "execution_count": 2,
   "metadata": {},
   "outputs": [
    {
     "name": "stdout",
     "output_type": "stream",
     "text": [
      "Downloading https://data.dgl.ai/dataset/ppi.zip\n",
      "Extracting data/ppi.zip\n",
      "Processing...\n",
      "Done!\n",
      "Number of features: 50\n",
      "Number of classes: 121\n"
     ]
    }
   ],
   "source": [
    "# Fetch the Dataset object\n",
    "dataset = torch_geometric.datasets.PPI(root='./data')\n",
    "print(f'Number of features: {dataset.num_features}')\n",
    "print(f'Number of classes: {dataset.num_classes}')"
   ]
  },
  {
   "cell_type": "markdown",
   "metadata": {},
   "source": [
    "# GCN baseline"
   ]
  },
  {
   "cell_type": "code",
   "execution_count": 6,
   "metadata": {},
   "outputs": [
    {
     "name": "stdout",
     "output_type": "stream",
     "text": [
      "[Graph 1/17] Loss: 4.782364368438721 | Val: 0.153 | Test: 0.176\n",
      "[Graph 2/17] Loss: 4.730032920837402 | Val: 0.402 | Test: 0.446\n",
      "[Graph 3/17] Loss: 4.692821979522705 | Val: 0.517 | Test: 0.547\n",
      "[Graph 4/17] Loss: 4.6339592933654785 | Val: 0.576 | Test: 0.596\n",
      "[Graph 5/17] Loss: 4.564996719360352 | Val: 0.608 | Test: 0.626\n",
      "[Graph 6/17] Loss: 4.546096324920654 | Val: 0.628 | Test: 0.640\n",
      "[Graph 7/17] Loss: 4.526713848114014 | Val: 0.637 | Test: 0.648\n",
      "[Graph 8/17] Loss: 4.299695014953613 | Val: 0.644 | Test: 0.653\n",
      "[Graph 9/17] Loss: 4.465276718139648 | Val: 0.647 | Test: 0.656\n",
      "[Graph 10/17] Loss: 4.391101837158203 | Val: 0.650 | Test: 0.659\n",
      "[Graph 11/17] Loss: 4.31809663772583 | Val: 0.654 | Test: 0.662\n",
      "[Graph 12/17] Loss: 4.274897575378418 | Val: 0.654 | Test: 0.663\n",
      "[Graph 13/17] Loss: 4.299157619476318 | Val: 0.655 | Test: 0.663\n",
      "[Graph 14/17] Loss: 4.246955394744873 | Val: 0.656 | Test: 0.663\n",
      "[Graph 15/17] Loss: 4.16882848739624 | Val: 0.656 | Test: 0.663\n",
      "[Graph 16/17] Loss: 4.152249336242676 | Val: 0.657 | Test: 0.663\n",
      "[Graph 17/17] Loss: 4.117489814758301 | Val: 0.658 | Test: 0.664\n"
     ]
    }
   ],
   "source": [
    "torch.manual_seed(1)\n",
    "model = geo_nn.Sequential('x, edge_index', [\n",
    "    (geo_nn.GCNConv(50, 512), 'x, edge_index -> x'),\n",
    "    torch.nn.ReLU(inplace=True),\n",
    "    (geo_nn.GCNConv(512, 121), 'x, edge_index -> x')\n",
    "])\n",
    "\n",
    "train_ppi(model, dataset[1:], num_epochs=1, use_edge_index=True, learning_rate=0.001)"
   ]
  },
  {
   "cell_type": "markdown",
   "metadata": {},
   "source": [
    "# Mean aggregator"
   ]
  },
  {
   "cell_type": "code",
   "execution_count": 7,
   "metadata": {},
   "outputs": [
    {
     "name": "stdout",
     "output_type": "stream",
     "text": [
      "[Graph 1/17] Loss: 4.758549690246582 | Val: 0.362 | Test: 0.367\n",
      "[Graph 2/17] Loss: 4.427901268005371 | Val: 0.471 | Test: 0.481\n",
      "[Graph 3/17] Loss: 4.151515960693359 | Val: 0.527 | Test: 0.533\n",
      "[Graph 4/17] Loss: 3.815920114517212 | Val: 0.567 | Test: 0.574\n",
      "[Graph 5/17] Loss: 3.4598124027252197 | Val: 0.606 | Test: 0.616\n",
      "[Graph 6/17] Loss: 3.285792589187622 | Val: 0.631 | Test: 0.634\n",
      "[Graph 7/17] Loss: 3.145538330078125 | Val: 0.646 | Test: 0.652\n",
      "[Graph 8/17] Loss: 2.566411018371582 | Val: 0.656 | Test: 0.663\n",
      "[Graph 9/17] Loss: 2.7647345066070557 | Val: 0.659 | Test: 0.666\n",
      "[Graph 10/17] Loss: 2.4702842235565186 | Val: 0.660 | Test: 0.667\n",
      "[Graph 11/17] Loss: 2.2045977115631104 | Val: 0.660 | Test: 0.667\n",
      "[Graph 12/17] Loss: 2.094424247741699 | Val: 0.660 | Test: 0.667\n",
      "[Graph 13/17] Loss: 2.1774115562438965 | Val: 0.660 | Test: 0.667\n",
      "[Graph 14/17] Loss: 2.062704563140869 | Val: 0.660 | Test: 0.667\n",
      "[Graph 15/17] Loss: 1.9006786346435547 | Val: 0.660 | Test: 0.667\n",
      "[Graph 16/17] Loss: 1.9003294706344604 | Val: 0.660 | Test: 0.667\n",
      "[Graph 17/17] Loss: 1.8569217920303345 | Val: 0.660 | Test: 0.667\n"
     ]
    }
   ],
   "source": [
    "import torch_geometric.nn as geo_nn\n",
    "torch.manual_seed(1)\n",
    "model = geo_nn.Sequential('x, edge_index', [\n",
    "    (GraphSAGELayer(50, 121, \"mean\", depth=2, concat=True), 'x, edge_index -> x'),\n",
    "])\n",
    "\n",
    "train_ppi(model, dataset[1:], num_epochs=1, use_edge_index=True, learning_rate=0.001)"
   ]
  },
  {
   "cell_type": "code",
   "execution_count": 8,
   "metadata": {},
   "outputs": [
    {
     "name": "stdout",
     "output_type": "stream",
     "text": [
      "[Graph 1/17] Loss: 4.902431488037109 | Val: 0.076 | Test: 0.070\n",
      "[Graph 2/17] Loss: 4.446955680847168 | Val: 0.113 | Test: 0.105\n",
      "[Graph 3/17] Loss: 4.0690836906433105 | Val: 0.193 | Test: 0.177\n",
      "[Graph 4/17] Loss: 3.6501049995422363 | Val: 0.283 | Test: 0.281\n",
      "[Graph 5/17] Loss: 3.246309280395508 | Val: 0.455 | Test: 0.463\n",
      "[Graph 6/17] Loss: 2.975222587585449 | Val: 0.592 | Test: 0.595\n",
      "[Graph 7/17] Loss: 2.7856051921844482 | Val: 0.650 | Test: 0.658\n",
      "[Graph 8/17] Loss: 2.0763232707977295 | Val: 0.660 | Test: 0.667\n",
      "[Graph 9/17] Loss: 2.35274600982666 | Val: 0.660 | Test: 0.667\n",
      "[Graph 10/17] Loss: 2.0777862071990967 | Val: 0.660 | Test: 0.667\n",
      "[Graph 11/17] Loss: 1.8518345355987549 | Val: 0.660 | Test: 0.667\n",
      "[Graph 12/17] Loss: 1.835702657699585 | Val: 0.660 | Test: 0.667\n",
      "[Graph 13/17] Loss: 1.9713197946548462 | Val: 0.660 | Test: 0.667\n",
      "[Graph 14/17] Loss: 1.902822732925415 | Val: 0.660 | Test: 0.667\n",
      "[Graph 15/17] Loss: 1.7849225997924805 | Val: 0.660 | Test: 0.667\n",
      "[Graph 16/17] Loss: 1.8327018022537231 | Val: 0.660 | Test: 0.667\n",
      "[Graph 17/17] Loss: 1.7766153812408447 | Val: 0.660 | Test: 0.667\n"
     ]
    }
   ],
   "source": [
    "import torch_geometric.nn as geo_nn\n",
    "torch.manual_seed(1)\n",
    "model = geo_nn.Sequential('x, edge_index', [\n",
    "    (GraphSAGELayer(50, 121, \"mean\", depth=2, concat=False), 'x, edge_index -> x'),\n",
    "])\n",
    "\n",
    "train_ppi(model, dataset[1:], num_epochs=1, use_edge_index=True, learning_rate=0.001)"
   ]
  },
  {
   "cell_type": "markdown",
   "metadata": {},
   "source": [
    "# Max learnable aggregator"
   ]
  },
  {
   "cell_type": "code",
   "execution_count": 9,
   "metadata": {},
   "outputs": [
    {
     "name": "stdout",
     "output_type": "stream",
     "text": [
      "[Graph 1/17] Loss: 4.6713972091674805 | Val: 0.660 | Test: 0.667\n",
      "[Graph 2/17] Loss: 2.1187736988067627 | Val: 0.660 | Test: 0.667\n",
      "[Graph 3/17] Loss: 2.3981311321258545 | Val: 0.660 | Test: 0.667\n",
      "[Graph 4/17] Loss: 1.8493622541427612 | Val: 0.660 | Test: 0.667\n",
      "[Graph 5/17] Loss: 1.1804211139678955 | Val: 0.660 | Test: 0.667\n",
      "[Graph 6/17] Loss: 1.433543086051941 | Val: 0.644 | Test: 0.648\n",
      "[Graph 7/17] Loss: 1.6956413984298706 | Val: 0.591 | Test: 0.594\n",
      "[Graph 8/17] Loss: 1.445821762084961 | Val: 0.654 | Test: 0.659\n",
      "[Graph 9/17] Loss: 1.6097723245620728 | Val: 0.659 | Test: 0.666\n",
      "[Graph 10/17] Loss: 1.4378533363342285 | Val: 0.660 | Test: 0.667\n",
      "[Graph 11/17] Loss: 1.309712529182434 | Val: 0.660 | Test: 0.667\n",
      "[Graph 12/17] Loss: 1.4512324333190918 | Val: 0.660 | Test: 0.667\n",
      "[Graph 13/17] Loss: 1.7299528121948242 | Val: 0.660 | Test: 0.667\n",
      "[Graph 14/17] Loss: 1.638074517250061 | Val: 0.660 | Test: 0.667\n",
      "[Graph 15/17] Loss: 1.509751796722412 | Val: 0.660 | Test: 0.667\n",
      "[Graph 16/17] Loss: 1.5646504163742065 | Val: 0.660 | Test: 0.667\n",
      "[Graph 17/17] Loss: 1.5126643180847168 | Val: 0.660 | Test: 0.667\n"
     ]
    }
   ],
   "source": [
    "import torch_geometric.nn as geo_nn\n",
    "torch.manual_seed(1)\n",
    "model = geo_nn.Sequential('x, edge_index', [\n",
    "    (GraphSAGELayer(50, 121, \"max\", depth=2, concat=True), 'x, edge_index -> x'),\n",
    "])\n",
    "\n",
    "train_ppi(model, dataset[1:], num_epochs=1, use_edge_index=True, learning_rate=0.001)"
   ]
  },
  {
   "cell_type": "code",
   "execution_count": 10,
   "metadata": {},
   "outputs": [
    {
     "name": "stdout",
     "output_type": "stream",
     "text": [
      "[Graph 1/17] Loss: 5.07998514175415 | Val: 0.093 | Test: 0.092\n",
      "[Graph 2/17] Loss: 3.0652787685394287 | Val: 0.660 | Test: 0.667\n",
      "[Graph 3/17] Loss: 2.183821678161621 | Val: 0.660 | Test: 0.667\n",
      "[Graph 4/17] Loss: 2.0524327754974365 | Val: 0.660 | Test: 0.667\n",
      "[Graph 5/17] Loss: 1.4697437286376953 | Val: 0.659 | Test: 0.666\n",
      "[Graph 6/17] Loss: 1.9093537330627441 | Val: 0.655 | Test: 0.661\n",
      "[Graph 7/17] Loss: 1.9990808963775635 | Val: 0.646 | Test: 0.652\n",
      "[Graph 8/17] Loss: 1.5035386085510254 | Val: 0.656 | Test: 0.662\n",
      "[Graph 9/17] Loss: 1.7257866859436035 | Val: 0.657 | Test: 0.664\n",
      "[Graph 10/17] Loss: 1.5233560800552368 | Val: 0.658 | Test: 0.665\n",
      "[Graph 11/17] Loss: 1.360066294670105 | Val: 0.658 | Test: 0.665\n",
      "[Graph 12/17] Loss: 1.5063221454620361 | Val: 0.652 | Test: 0.657\n",
      "[Graph 13/17] Loss: 1.829614520072937 | Val: 0.655 | Test: 0.663\n",
      "[Graph 14/17] Loss: 1.732593297958374 | Val: 0.659 | Test: 0.667\n",
      "[Graph 15/17] Loss: 1.5588405132293701 | Val: 0.660 | Test: 0.667\n",
      "[Graph 16/17] Loss: 1.6547666788101196 | Val: 0.660 | Test: 0.667\n",
      "[Graph 17/17] Loss: 1.583519697189331 | Val: 0.660 | Test: 0.666\n"
     ]
    }
   ],
   "source": [
    "import torch_geometric.nn as geo_nn\n",
    "torch.manual_seed(1)\n",
    "model = geo_nn.Sequential('x, edge_index', [\n",
    "    (GraphSAGELayer(50, 121, \"max\", depth=2, concat=False), 'x, edge_index -> x'),\n",
    "])\n",
    "\n",
    "train_ppi(model, dataset[1:], num_epochs=1, use_edge_index=True, learning_rate=0.001)"
   ]
  },
  {
   "cell_type": "code",
   "execution_count": null,
   "metadata": {},
   "outputs": [],
   "source": []
  }
 ],
 "metadata": {
  "kernelspec": {
   "display_name": "Python 3",
   "language": "python",
   "name": "python3"
  },
  "language_info": {
   "codemirror_mode": {
    "name": "ipython",
    "version": 3
   },
   "file_extension": ".py",
   "mimetype": "text/x-python",
   "name": "python",
   "nbconvert_exporter": "python",
   "pygments_lexer": "ipython3",
   "version": "3.8.5"
  }
 },
 "nbformat": 4,
 "nbformat_minor": 4
}
